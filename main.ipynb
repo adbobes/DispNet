{
 "cells": [
  {
   "cell_type": "code",
   "execution_count": 1,
   "metadata": {
    "ExecuteTime": {
     "end_time": "2020-08-27T07:30:34.515091Z",
     "start_time": "2020-08-27T07:30:32.760418Z"
    }
   },
   "outputs": [],
   "source": [
    "import FlyingObject3DDataset as fo3D\n",
    "import DispNet\n",
    "import torch\n",
    "import torch.nn as nn\n",
    "from torch import optim"
   ]
  },
  {
   "cell_type": "code",
   "execution_count": 2,
   "metadata": {
    "ExecuteTime": {
     "end_time": "2020-08-27T07:30:35.315735Z",
     "start_time": "2020-08-27T07:30:34.518086Z"
    }
   },
   "outputs": [],
   "source": [
    "dataset_train = fo3D.FlyingObject3DDataset(samples = 100, \n",
    "                                           left_root = \"photo/left/\", \n",
    "                                           right_root = \"photo/right/\", \n",
    "                                           disparity_root = \"photo/disparity/\")"
   ]
  },
  {
   "cell_type": "code",
   "execution_count": 3,
   "metadata": {
    "ExecuteTime": {
     "end_time": "2020-08-27T07:30:35.331658Z",
     "start_time": "2020-08-27T07:30:35.318693Z"
    }
   },
   "outputs": [],
   "source": [
    "train_loader = torch.utils.data.DataLoader(dataset_train, batch_size=50, \n",
    "                                           shuffle=True, num_workers=0)\n"
   ]
  },
  {
   "cell_type": "code",
   "execution_count": 4,
   "metadata": {
    "ExecuteTime": {
     "end_time": "2020-08-27T07:30:35.362576Z",
     "start_time": "2020-08-27T07:30:35.336643Z"
    }
   },
   "outputs": [
    {
     "name": "stdout",
     "output_type": "stream",
     "text": [
      "torch.Size([6, 384, 768])\n",
      "torch.Size([192, 384])\n",
      "torch.Size([12, 384, 768])\n"
     ]
    }
   ],
   "source": [
    "image = dataset_train[0][0]\n",
    "disparity = dataset_train[0][1]\n",
    "\n",
    "print(image.shape)\n",
    "print(disparity.shape)\n",
    "\n",
    "stack = torch.cat((image, dataset_train[0][0]), 0)\n",
    "print(stack.shape)"
   ]
  },
  {
   "cell_type": "code",
   "execution_count": 5,
   "metadata": {
    "ExecuteTime": {
     "end_time": "2020-08-27T07:30:35.962568Z",
     "start_time": "2020-08-27T07:30:35.367561Z"
    }
   },
   "outputs": [],
   "source": [
    "net = DispNet.DispNet()\n",
    "criterion = nn.SmoothL1Loss()\n",
    "optimizer = optim.Adam(net.parameters(),betas=(0.9, 0.999), lr=1e-4)"
   ]
  },
  {
   "cell_type": "code",
   "execution_count": 8,
   "metadata": {
    "ExecuteTime": {
     "end_time": "2020-08-27T07:32:28.405923Z",
     "start_time": "2020-08-27T07:32:04.958763Z"
    }
   },
   "outputs": [
    {
     "name": "stdout",
     "output_type": "stream",
     "text": [
      "torch.Size([5, 192, 384])\n",
      "==== ENCODE ====\n",
      "torch.Size([5, 6, 384, 768])\n",
      "torch.Size([5, 64, 192, 384])\n",
      "torch.Size([5, 128, 96, 192])\n",
      "torch.Size([5, 256, 48, 96])\n",
      "torch.Size([5, 256, 48, 96])\n",
      "torch.Size([5, 512, 24, 48])\n",
      "torch.Size([5, 512, 24, 48])\n",
      "torch.Size([5, 512, 12, 24])\n",
      "torch.Size([5, 512, 12, 24])\n",
      "torch.Size([5, 1024, 6, 12])\n",
      "torch.Size([5, 1024, 6, 12])\n",
      "==== DECODE ====\n",
      "upconv5.shape : torch.Size([5, 512, 12, 24])\n",
      "iconv5.shape: torch.Size([5, 512, 12, 24])\n",
      "upconv4.shape: torch.Size([5, 256, 24, 48])\n",
      "iconv4.shape: torch.Size([5, 256, 24, 48])\n",
      "upconv3.shape: torch.Size([5, 128, 48, 96])\n",
      "iconv3.shape: torch.Size([5, 128, 48, 96])\n",
      "upconv2.shape: torch.Size([5, 64, 96, 192])\n",
      "iconv2.shape: torch.Size([5, 64, 96, 192])\n",
      "upconv1.shape: torch.Size([5, 32, 192, 384])\n",
      "iconv1.shape: torch.Size([5, 32, 192, 384])\n",
      "torch.Size([5, 192, 384])\n",
      "==== ENCODE ====\n",
      "torch.Size([5, 6, 384, 768])\n",
      "torch.Size([5, 64, 192, 384])\n",
      "torch.Size([5, 128, 96, 192])\n",
      "torch.Size([5, 256, 48, 96])\n",
      "torch.Size([5, 256, 48, 96])\n",
      "torch.Size([5, 512, 24, 48])\n",
      "torch.Size([5, 512, 24, 48])\n",
      "torch.Size([5, 512, 12, 24])\n",
      "torch.Size([5, 512, 12, 24])\n",
      "torch.Size([5, 1024, 6, 12])\n",
      "torch.Size([5, 1024, 6, 12])\n",
      "==== DECODE ====\n",
      "upconv5.shape : torch.Size([5, 512, 12, 24])\n",
      "iconv5.shape: torch.Size([5, 512, 12, 24])\n",
      "upconv4.shape: torch.Size([5, 256, 24, 48])\n",
      "iconv4.shape: torch.Size([5, 256, 24, 48])\n",
      "upconv3.shape: torch.Size([5, 128, 48, 96])\n",
      "iconv3.shape: torch.Size([5, 128, 48, 96])\n",
      "upconv2.shape: torch.Size([5, 64, 96, 192])\n",
      "iconv2.shape: torch.Size([5, 64, 96, 192])\n",
      "upconv1.shape: torch.Size([5, 32, 192, 384])\n",
      "iconv1.shape: torch.Size([5, 32, 192, 384])\n",
      "Training Loss: 44.834\n"
     ]
    }
   ],
   "source": [
    "for epoch in range(num_epochs):\n",
    "    net.train()\n",
    "    train_loss = 0\n",
    "    \n",
    "    for batch_idx, (inputs, targets) in enumerate(train_loader):\n",
    "        optimizer.zero_grad()\n",
    "        outputs = net.forward(inputs, targets)\n",
    "\n",
    "        loss = criterion(outputs, targets)\n",
    "        loss.backward()\n",
    "        optimizer.step()\n",
    "\n",
    "        train_loss += loss.item()\n",
    "\n",
    "    print('Training Loss: %.3f' % (train_loss / (batch_idx + 1)))"
   ]
  },
  {
   "cell_type": "code",
   "execution_count": null,
   "metadata": {},
   "outputs": [],
   "source": []
  }
 ],
 "metadata": {
  "kernelspec": {
   "display_name": "Python 3",
   "language": "python",
   "name": "python3"
  },
  "language_info": {
   "codemirror_mode": {
    "name": "ipython",
    "version": 3
   },
   "file_extension": ".py",
   "mimetype": "text/x-python",
   "name": "python",
   "nbconvert_exporter": "python",
   "pygments_lexer": "ipython3",
   "version": "3.7.7"
  },
  "toc": {
   "base_numbering": 1,
   "nav_menu": {},
   "number_sections": true,
   "sideBar": true,
   "skip_h1_title": false,
   "title_cell": "Table of Contents",
   "title_sidebar": "Contents",
   "toc_cell": false,
   "toc_position": {},
   "toc_section_display": true,
   "toc_window_display": false
  }
 },
 "nbformat": 4,
 "nbformat_minor": 4
}
